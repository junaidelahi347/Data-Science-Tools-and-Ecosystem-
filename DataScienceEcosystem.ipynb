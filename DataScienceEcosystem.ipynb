{
  "metadata": {
    "language_info": {
      "codemirror_mode": {
        "name": "python",
        "version": 3
      },
      "file_extension": ".py",
      "mimetype": "text/x-python",
      "name": "python",
      "nbconvert_exporter": "python",
      "pygments_lexer": "ipython3",
      "version": "3.8"
    },
    "kernelspec": {
      "name": "python",
      "display_name": "Python (Pyodide)",
      "language": "python"
    }
  },
  "nbformat_minor": 4,
  "nbformat": 4,
  "cells": [
    {
      "cell_type": "markdown",
      "source": "# Data Science tools and Ecosystem #",
      "metadata": {}
    },
    {
      "cell_type": "markdown",
      "source": "In this notebook, Data Science tools and ecosystem are summarized\n",
      "metadata": {}
    },
    {
      "cell_type": "markdown",
      "source": "some of the popular language that data science use are :\n1. PYTHON \n1. R LANGUAGE\n1. SQL\n1. JAVASRIPT \n\n",
      "metadata": {}
    },
    {
      "cell_type": "markdown",
      "source": "Some of the commonly used libraries used by Data science includes :\n1. NUMPY\n1. TENSORFLOW \n1. MATPLOTIB\n1. PANDAS\n1. SEABORN",
      "metadata": {}
    },
    {
      "cell_type": "markdown",
      "source": " table of the tools used in data science are as follow:\n| data science tools|\n|:------------------|\n| RSTUDIO |\n| APACHE SPARK|\n| APACHE HADOOP|\n| TENSORFLOW |\n",
      "metadata": {}
    },
    {
      "cell_type": "markdown",
      "source": "### Below are the few examples of evaluating arthimatic expression in python ###\n",
      "metadata": {}
    },
    {
      "cell_type": "code",
      "source": "#this is the simple arithematic expression to multiply and then add integers:\n(3*4)+5\n",
      "metadata": {
        "trusted": true
      },
      "execution_count": 1,
      "outputs": [
        {
          "execution_count": 1,
          "output_type": "execute_result",
          "data": {
            "text/plain": "17"
          },
          "metadata": {}
        }
      ]
    },
    {
      "cell_type": "code",
      "source": "# this will convert 200 minutes into hours by dividing by 60\n200/60",
      "metadata": {
        "trusted": true
      },
      "execution_count": 2,
      "outputs": [
        {
          "execution_count": 2,
          "output_type": "execute_result",
          "data": {
            "text/plain": "3.3333333333333335"
          },
          "metadata": {}
        }
      ]
    },
    {
      "cell_type": "markdown",
      "source": "In this notebook, Data Science tools and ecosystem are summarized",
      "metadata": {}
    },
    {
      "cell_type": "markdown",
      "source": "**Objectives**",
      "metadata": {}
    },
    {
      "cell_type": "markdown",
      "source": "* PYTHON \n* R LANGUAGE \n* SQL \n* JULIA \n* SCALA ",
      "metadata": {}
    },
    {
      "cell_type": "markdown",
      "source": "## AUTHOR ##\nJUNAID ELAHI",
      "metadata": {}
    },
    {
      "cell_type": "code",
      "source": "",
      "metadata": {},
      "execution_count": null,
      "outputs": []
    }
  ]
}